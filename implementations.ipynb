{
 "cells": [
  {
   "cell_type": "markdown",
   "metadata": {},
   "source": [
    "# Machine learning basic methods\n",
    "\n",
    "In this notebook we try out each of the basic machine learning methods we have seen in class, and we calculate their accuracy via 4-fold cross validation.\n",
    "We sum up the results in a table at the end."
   ]
  },
  {
   "cell_type": "code",
   "execution_count": 1,
   "metadata": {
    "collapsed": false
   },
   "outputs": [],
   "source": [
    "# Useful starting lines\n",
    "%matplotlib inline\n",
    "import numpy as np\n",
    "import matplotlib.pyplot as plt\n",
    "%load_ext autoreload\n",
    "%autoreload 2\n",
    "import pandas as pd"
   ]
  },
  {
   "cell_type": "markdown",
   "metadata": {},
   "source": [
    "## Load the training data into feature matrix, class labels, and event ids:"
   ]
  },
  {
   "cell_type": "code",
   "execution_count": 3,
   "metadata": {
    "collapsed": false
   },
   "outputs": [],
   "source": [
    "from proj1_helpers import *\n",
    "DATA_TRAIN_PATH = 'data/train.csv' \n",
    "y, tX, ids = load_csv_data(DATA_TRAIN_PATH)"
   ]
  },
  {
   "cell_type": "markdown",
   "metadata": {},
   "source": [
    "# Gradient descent"
   ]
  },
  {
   "cell_type": "markdown",
   "metadata": {},
   "source": [
    "\n",
    "\n",
    "\n"
   ]
  },
  {
   "cell_type": "code",
   "execution_count": 26,
   "metadata": {
    "collapsed": false
   },
   "outputs": [],
   "source": [
    "from scripts import least_squares_GD\n",
    "from costs import compute_loss\n",
    "from cross_validation import cross_validation"
   ]
  },
  {
   "cell_type": "code",
   "execution_count": 10,
   "metadata": {
    "collapsed": false
   },
   "outputs": [
    {
     "name": "stdout",
     "output_type": "stream",
     "text": [
      "0.415607829341 [  3.80346724e-04  -1.05111647e-04  -4.01889967e-05   1.04035338e-05\n",
      "   1.70150747e-05   1.82378837e-04   1.41987918e-05  -5.18640770e-07\n",
      "  -2.19005185e-05  -6.90004830e-05  -2.14951239e-06   1.63099023e-06\n",
      "   1.66426513e-05   2.34443344e-05  -2.47834061e-08  -7.33113014e-08\n",
      "  -3.35914729e-05  -1.93731739e-08   5.42758416e-08  -2.10924320e-05\n",
      "   9.69234347e-08  -9.87881549e-05  -1.06453411e-06   3.94465994e-05\n",
      "   5.07333661e-05   5.07285001e-05  -7.45642182e-06   1.65052584e-05\n",
      "   1.64630455e-05  -5.88533325e-05]\n"
     ]
    }
   ],
   "source": [
    "# MSE\n",
    "gd_loss, gd_w = least_squares_GD(y, tX, 1e-7, 100)\n",
    "print (gd_loss, gd_w)"
   ]
  },
  {
   "cell_type": "code",
   "execution_count": 31,
   "metadata": {
    "collapsed": false
   },
   "outputs": [
    {
     "name": "stdout",
     "output_type": "stream",
     "text": [
      "0.665876\n"
     ]
    }
   ],
   "source": [
    "gd_accuracy = cross_validation(y, tX, 1e-7, method='least_squares_GD')\n",
    "print(gd_accuracy)"
   ]
  },
  {
   "cell_type": "markdown",
   "metadata": {},
   "source": [
    "# Stochastic Gradient descent"
   ]
  },
  {
   "cell_type": "code",
   "execution_count": 11,
   "metadata": {
    "collapsed": false
   },
   "outputs": [],
   "source": [
    "from scripts import least_squares_SGD"
   ]
  },
  {
   "cell_type": "code",
   "execution_count": 13,
   "metadata": {
    "collapsed": false
   },
   "outputs": [
    {
     "name": "stdout",
     "output_type": "stream",
     "text": [
      "0.404700640241 [  4.77849060e-04  -4.39326529e-04  -1.76124848e-04   9.91750700e-05\n",
      "  -3.72070473e-05   4.95361063e-04  -4.72555315e-05  -2.56855003e-06\n",
      "  -8.64936492e-05  -2.04214226e-04  -9.78531320e-06   7.10273012e-06\n",
      "  -3.81605615e-05   1.36985528e-04  -1.31584656e-07  -3.22522772e-07\n",
      "  -1.37451459e-04  -1.35766949e-07   2.85906890e-07  -3.41915451e-05\n",
      "   4.38122845e-07  -3.23562047e-04  -4.50475596e-06   4.67510154e-05\n",
      "   5.61097704e-05   5.60987118e-05  -1.34661019e-04  -3.87498293e-05\n",
      "  -3.89620996e-05  -2.03748232e-04]\n"
     ]
    }
   ],
   "source": [
    "# MSE unfiltered data\n",
    "sgd_loss, sgd_w = least_squares_SGD(y, tX, 1e-7, 10, 5000)\n",
    "print(sgd_loss, sgd_w)"
   ]
  },
  {
   "cell_type": "code",
   "execution_count": 30,
   "metadata": {
    "collapsed": false,
    "scrolled": true
   },
   "outputs": [
    {
     "name": "stderr",
     "output_type": "stream",
     "text": [
      "C:\\Users\\Fearnley\\Documents\\EPFL\\Machine learning\\ML_pro_1\\pro1\\helpers.py:47: VisibleDeprecationWarning: using a non-integer number instead of an integer will result in an error in the future\n",
      "  yield shuffled_y[start_index:end_index], shuffled_tx[start_index:end_index]\n"
     ]
    },
    {
     "name": "stdout",
     "output_type": "stream",
     "text": [
      "0.702404\n"
     ]
    }
   ],
   "source": [
    "sgd_accuracy = cross_validation(y, tX, 1e-7, method='least_squares_SGD')\n",
    "print(sgd_accuracy)"
   ]
  },
  {
   "cell_type": "markdown",
   "metadata": {},
   "source": [
    "# Least squares"
   ]
  },
  {
   "cell_type": "code",
   "execution_count": 15,
   "metadata": {
    "collapsed": true
   },
   "outputs": [],
   "source": [
    "from scripts import least_squares"
   ]
  },
  {
   "cell_type": "code",
   "execution_count": 16,
   "metadata": {
    "collapsed": false
   },
   "outputs": [
    {
     "name": "stdout",
     "output_type": "stream",
     "text": [
      "0.339686809915 [  8.03911103e-05  -7.20111773e-03  -6.05471144e-03  -5.47536204e-04\n",
      "  -1.93854515e-02   4.73443447e-04  -2.60377713e-02   3.25108467e-01\n",
      "  -3.81085734e-05  -2.72787181e+00  -2.21219603e-01   9.50810773e-02\n",
      "   6.40330195e-02   2.73613146e+00  -3.31801854e-04  -9.54327420e-04\n",
      "   2.74088821e+00  -5.34165287e-04   9.73498892e-04   3.69225050e-03\n",
      "   3.54487161e-04  -5.43344617e-04  -3.30448034e-01  -1.40800496e-03\n",
      "   8.31432873e-04   1.02117271e-03  -1.68047418e-03  -5.83664769e-03\n",
      "  -1.11088005e-02   2.72833175e+00]\n"
     ]
    }
   ],
   "source": [
    "# MSE unfiltered data\n",
    "ls_loss, ls_w = least_squares(y, tX)\n",
    "print (ls_loss,ls_w)"
   ]
  },
  {
   "cell_type": "code",
   "execution_count": 32,
   "metadata": {
    "collapsed": false
   },
   "outputs": [
    {
     "name": "stdout",
     "output_type": "stream",
     "text": [
      "0.744256\n"
     ]
    }
   ],
   "source": [
    "ls_accuracy = cross_validation(y, tX, 1e-7, method='least_squares')\n",
    "print(ls_accuracy)"
   ]
  },
  {
   "cell_type": "markdown",
   "metadata": {},
   "source": [
    "# Affine least squares regression"
   ]
  },
  {
   "cell_type": "code",
   "execution_count": 19,
   "metadata": {
    "collapsed": false
   },
   "outputs": [
    {
     "name": "stdout",
     "output_type": "stream",
     "text": [
      "0.339445598528 [ -3.60647213e-01   7.22888164e-05  -7.14508760e-03  -6.24041586e-03\n",
      "  -4.77105873e-04  -3.08442134e-03   4.49420586e-04  -2.38153006e-02\n",
      "   3.42160433e-01  -1.09962265e-04  -2.84138770e+00  -2.16218152e-01\n",
      "   9.55433766e-02   4.52049754e-02   2.84995415e+00  -2.62721028e-04\n",
      "  -9.95639034e-04   2.85442834e+00  -3.54662741e-04   8.49821612e-04\n",
      "   3.69247840e-03   2.18113350e-04  -5.00574858e-04  -2.11522352e-01\n",
      "  -2.18882120e-04   2.01549536e-04   3.43135866e-04  -6.98404087e-05\n",
      "  -6.58071021e-03  -1.18306604e-02   2.84063518e+00]\n"
     ]
    }
   ],
   "source": [
    "# MSE with filtered data, affine model\n",
    "affine_tX = affine = np.hstack((np.ones((tX.shape[0],1)),tX))\n",
    "ls_loss_affine, ls_w_affine = least_squares(y, affine_tX)\n",
    "print (ls_loss_affine,ls_w_affine)"
   ]
  },
  {
   "cell_type": "code",
   "execution_count": 34,
   "metadata": {
    "collapsed": false
   },
   "outputs": [
    {
     "name": "stdout",
     "output_type": "stream",
     "text": [
      "0.744952\n"
     ]
    }
   ],
   "source": [
    "affine_ls_accuracy = cross_validation(y, affine_tX, 1e-7, method='least_squares')\n",
    "print(affine_ls_accuracy)"
   ]
  },
  {
   "cell_type": "markdown",
   "metadata": {},
   "source": [
    "# Ridge Regression"
   ]
  },
  {
   "cell_type": "code",
   "execution_count": 20,
   "metadata": {
    "collapsed": true
   },
   "outputs": [],
   "source": [
    "from scripts import ridge_regression"
   ]
  },
  {
   "cell_type": "code",
   "execution_count": 21,
   "metadata": {
    "collapsed": false
   },
   "outputs": [
    {
     "name": "stdout",
     "output_type": "stream",
     "text": [
      "0.364399812303 [  1.98628815e-04  -8.39656035e-03  -3.22311998e-03  -2.06213002e-03\n",
      "  -1.13848439e-02   4.91720836e-04  -2.05135585e-02   1.01683862e-01\n",
      "  -1.49557627e-05   3.83138841e-03  -8.60779329e-02   8.16367032e-02\n",
      "   3.42443158e-02   5.15657721e-03  -4.37703313e-04  -1.27074718e-03\n",
      "   4.15478660e-03  -5.41025171e-04   9.28858575e-04   4.71409380e-03\n",
      "   4.53983949e-04  -7.26027320e-04  -9.49952316e-02   8.41627937e-04\n",
      "  -4.41338632e-04  -2.00086360e-04  -2.04653783e-04   1.59679327e-04\n",
      "  -2.54485619e-03  -5.47587190e-03]\n"
     ]
    }
   ],
   "source": [
    "lamb = 1e-1\n",
    "rr_loss, rr_w = ridge_regression(y, tX, lamb)\n",
    "print (rr_loss,rr_w)"
   ]
  },
  {
   "cell_type": "code",
   "execution_count": 35,
   "metadata": {
    "collapsed": false
   },
   "outputs": [
    {
     "name": "stdout",
     "output_type": "stream",
     "text": [
      "0.7380120000000001\n"
     ]
    }
   ],
   "source": [
    "rr_accuracy = cross_validation(y, tX, 1e-7, method='ridge_regression')\n",
    "print(rr_accuracy)"
   ]
  },
  {
   "cell_type": "markdown",
   "metadata": {},
   "source": [
    "# Summary"
   ]
  },
  {
   "cell_type": "code",
   "execution_count": 36,
   "metadata": {
    "collapsed": false,
    "scrolled": true
   },
   "outputs": [
    {
     "data": {
      "text/html": [
       "<div>\n",
       "<table border=\"1\" class=\"dataframe\">\n",
       "  <thead>\n",
       "    <tr style=\"text-align: right;\">\n",
       "      <th></th>\n",
       "      <th>Gradient Descent</th>\n",
       "      <th>Stochastic Gradient Descent</th>\n",
       "      <th>Least Squares</th>\n",
       "      <th>Ridge Regression</th>\n",
       "    </tr>\n",
       "  </thead>\n",
       "  <tbody>\n",
       "    <tr>\n",
       "      <th>Loss mse</th>\n",
       "      <td>0.415608</td>\n",
       "      <td>0.404701</td>\n",
       "      <td>0.339687</td>\n",
       "      <td>0.364400</td>\n",
       "    </tr>\n",
       "    <tr>\n",
       "      <th>Accuracy</th>\n",
       "      <td>0.665876</td>\n",
       "      <td>0.702404</td>\n",
       "      <td>0.744256</td>\n",
       "      <td>0.738012</td>\n",
       "    </tr>\n",
       "  </tbody>\n",
       "</table>\n",
       "</div>"
      ],
      "text/plain": [
       "          Gradient Descent  Stochastic Gradient Descent  Least Squares  \\\n",
       "Loss mse          0.415608                     0.404701       0.339687   \n",
       "Accuracy          0.665876                     0.702404       0.744256   \n",
       "\n",
       "          Ridge Regression  \n",
       "Loss mse          0.364400  \n",
       "Accuracy          0.738012  "
      ]
     },
     "execution_count": 36,
     "metadata": {},
     "output_type": "execute_result"
    }
   ],
   "source": [
    "df_results = pd.DataFrame([[gd_loss, sgd_loss, ls_loss, rr_loss],\n",
    "                           [gd_accuracy, sgd_accuracy, ls_accuracy, rr_accuracy]\n",
    "                          ])\n",
    "df_results.columns = ['Gradient Descent', 'Stochastic Gradient Descent', 'Least Squares', 'Ridge Regression']\n",
    "df_results.index = ['Loss mse','Accuracy']\n",
    "df_results"
   ]
  },
  {
   "cell_type": "markdown",
   "metadata": {},
   "source": []
  }
 ],
 "metadata": {
  "anaconda-cloud": {},
  "kernelspec": {
   "display_name": "Python 3",
   "language": "python",
   "name": "python3"
  },
  "language_info": {
   "codemirror_mode": {
    "name": "ipython",
    "version": 3
   },
   "file_extension": ".py",
   "mimetype": "text/x-python",
   "name": "python",
   "nbconvert_exporter": "python",
   "pygments_lexer": "ipython3",
   "version": "3.5.2"
  }
 },
 "nbformat": 4,
 "nbformat_minor": 0
}
