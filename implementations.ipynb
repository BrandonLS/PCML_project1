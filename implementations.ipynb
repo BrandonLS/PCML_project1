{
 "cells": [
  {
   "cell_type": "markdown",
   "metadata": {},
   "source": [
    "# Machine learning basic methods\n",
    "\n",
    "In this notebook we try out each of the basic machine learning methods we have seen in class, and we calculate their accuracy via 4-fold cross validation.\n",
    "We sum up the results in a table at the end."
   ]
  },
  {
   "cell_type": "code",
   "execution_count": 1,
   "metadata": {
    "collapsed": false
   },
   "outputs": [],
   "source": [
    "# Useful starting lines\n",
    "%matplotlib inline\n",
    "import numpy as np\n",
    "import matplotlib.pyplot as plt\n",
    "%load_ext autoreload\n",
    "%autoreload 2\n",
    "import pandas as pd"
   ]
  },
  {
   "cell_type": "markdown",
   "metadata": {},
   "source": [
    "## Load the training data into feature matrix, class labels, and event ids:"
   ]
  },
  {
   "cell_type": "code",
   "execution_count": 2,
   "metadata": {
    "collapsed": false
   },
   "outputs": [],
   "source": [
    "from helpers import *\n",
    "DATA_TRAIN_PATH = 'data/train.csv' \n",
    "y, tX, ids = load_csv_data(DATA_TRAIN_PATH)"
   ]
  },
  {
   "cell_type": "markdown",
   "metadata": {},
   "source": [
    "# Gradient descent"
   ]
  },
  {
   "cell_type": "markdown",
   "metadata": {},
   "source": [
    "\n",
    "\n",
    "\n"
   ]
  },
  {
   "cell_type": "code",
   "execution_count": 10,
   "metadata": {
    "collapsed": false
   },
   "outputs": [],
   "source": [
    "from implementations import least_squares_GD\n",
    "from cross_validation import cross_validation"
   ]
  },
  {
   "cell_type": "code",
   "execution_count": 11,
   "metadata": {
    "collapsed": false
   },
   "outputs": [
    {
     "name": "stdout",
     "output_type": "stream",
     "text": [
      "0.415607829341 [  3.80346724e-04  -1.05111647e-04  -4.01889967e-05   1.04035338e-05\n",
      "   1.70150747e-05   1.82378837e-04   1.41987918e-05  -5.18640770e-07\n",
      "  -2.19005185e-05  -6.90004830e-05  -2.14951239e-06   1.63099023e-06\n",
      "   1.66426513e-05   2.34443344e-05  -2.47834061e-08  -7.33113014e-08\n",
      "  -3.35914729e-05  -1.93731739e-08   5.42758416e-08  -2.10924320e-05\n",
      "   9.69234347e-08  -9.87881549e-05  -1.06453411e-06   3.94465994e-05\n",
      "   5.07333661e-05   5.07285001e-05  -7.45642182e-06   1.65052584e-05\n",
      "   1.64630455e-05  -5.88533325e-05]\n"
     ]
    }
   ],
   "source": [
    "# MSE\n",
    "initial_w = np.zeros(tX.shape[1])\n",
    "gd_w, gd_loss = least_squares_GD(y, tX, initial_w, 100, 1e-7)\n",
    "print (gd_loss, gd_w)"
   ]
  },
  {
   "cell_type": "code",
   "execution_count": 12,
   "metadata": {
    "collapsed": false
   },
   "outputs": [
    {
     "name": "stdout",
     "output_type": "stream",
     "text": [
      "(0.665876, [0.665664, 0.66816, 0.664336, 0.665344])\n"
     ]
    }
   ],
   "source": [
    "gd_accuracy = cross_validation(y, tX, 1e-7, method='least_squares_GD')\n",
    "print(gd_accuracy)"
   ]
  },
  {
   "cell_type": "markdown",
   "metadata": {},
   "source": [
    "# Stochastic Gradient descent"
   ]
  },
  {
   "cell_type": "code",
   "execution_count": 13,
   "metadata": {
    "collapsed": false
   },
   "outputs": [],
   "source": [
    "from implementations import least_squares_SGD"
   ]
  },
  {
   "cell_type": "code",
   "execution_count": 14,
   "metadata": {
    "collapsed": false
   },
   "outputs": [
    {
     "name": "stdout",
     "output_type": "stream",
     "text": [
      "0.404678200185 [  4.78332140e-04  -4.39132721e-04  -1.75768269e-04   9.93507739e-05\n",
      "  -3.84743387e-05   4.95538898e-04  -4.85378685e-05  -2.55916345e-06\n",
      "  -8.63975764e-05  -2.03458230e-04  -9.78167912e-06   7.10082931e-06\n",
      "  -3.94356324e-05   1.37168382e-04  -1.26248989e-07  -3.14509656e-07\n",
      "  -1.37264810e-04  -1.26777917e-07   2.89749142e-07  -3.40684727e-05\n",
      "   4.32899800e-07  -3.22579923e-04  -4.49920816e-06   4.51371667e-05\n",
      "   5.42852151e-05   5.42757751e-05  -1.35812093e-04  -4.00271879e-05\n",
      "  -4.02381008e-05  -2.03361739e-04]\n"
     ]
    }
   ],
   "source": [
    "# MSE unfiltered data\n",
    "initial_w = np.zeros(tX.shape[1])\n",
    "sgd_w, sgd_loss = least_squares_SGD(y, tX, initial_w, 10, 1e-7)\n",
    "print(sgd_loss, sgd_w)"
   ]
  },
  {
   "cell_type": "code",
   "execution_count": 15,
   "metadata": {
    "collapsed": false,
    "scrolled": true
   },
   "outputs": [
    {
     "name": "stdout",
     "output_type": "stream",
     "text": [
      "(0.6988079999999999, [0.700896, 0.697248, 0.6996, 0.697488])\n"
     ]
    }
   ],
   "source": [
    "sgd_accuracy = cross_validation(y, tX, 1e-7, method='least_squares_SGD')\n",
    "print(sgd_accuracy)"
   ]
  },
  {
   "cell_type": "markdown",
   "metadata": {},
   "source": [
    "# Least squares"
   ]
  },
  {
   "cell_type": "code",
   "execution_count": 16,
   "metadata": {
    "collapsed": false
   },
   "outputs": [],
   "source": [
    "from implementations import least_squares"
   ]
  },
  {
   "cell_type": "code",
   "execution_count": 17,
   "metadata": {
    "collapsed": false
   },
   "outputs": [
    {
     "name": "stdout",
     "output_type": "stream",
     "text": [
      "0.339686809915 [  8.03911103e-05  -7.20111773e-03  -6.05471144e-03  -5.47536204e-04\n",
      "  -1.93854515e-02   4.73443447e-04  -2.60377713e-02   3.25108467e-01\n",
      "  -3.81085734e-05  -2.72787181e+00  -2.21219603e-01   9.50810773e-02\n",
      "   6.40330195e-02   2.73613146e+00  -3.31801854e-04  -9.54327420e-04\n",
      "   2.74088821e+00  -5.34165287e-04   9.73498892e-04   3.69225050e-03\n",
      "   3.54487161e-04  -5.43344617e-04  -3.30448034e-01  -1.40800496e-03\n",
      "   8.31432873e-04   1.02117271e-03  -1.68047418e-03  -5.83664769e-03\n",
      "  -1.11088005e-02   2.72833175e+00]\n"
     ]
    }
   ],
   "source": [
    "# MSE unfiltered data\n",
    "ls_w, ls_loss = least_squares(y, tX)\n",
    "print (ls_loss,ls_w)"
   ]
  },
  {
   "cell_type": "code",
   "execution_count": 18,
   "metadata": {
    "collapsed": false
   },
   "outputs": [
    {
     "name": "stdout",
     "output_type": "stream",
     "text": [
      "(0.744256, [0.744272, 0.743616, 0.746464, 0.742672])\n"
     ]
    }
   ],
   "source": [
    "ls_accuracy = cross_validation(y, tX, 1e-7, method='least_squares')\n",
    "print(ls_accuracy)"
   ]
  },
  {
   "cell_type": "markdown",
   "metadata": {},
   "source": [
    "# Affine least squares regression"
   ]
  },
  {
   "cell_type": "code",
   "execution_count": 19,
   "metadata": {
    "collapsed": false
   },
   "outputs": [
    {
     "name": "stdout",
     "output_type": "stream",
     "text": [
      "0.339445598528 [ -3.60647213e-01   7.22888164e-05  -7.14508760e-03  -6.24041586e-03\n",
      "  -4.77105873e-04  -3.08442134e-03   4.49420586e-04  -2.38153006e-02\n",
      "   3.42160433e-01  -1.09962265e-04  -2.84138770e+00  -2.16218152e-01\n",
      "   9.55433766e-02   4.52049754e-02   2.84995415e+00  -2.62721028e-04\n",
      "  -9.95639034e-04   2.85442834e+00  -3.54662741e-04   8.49821612e-04\n",
      "   3.69247840e-03   2.18113350e-04  -5.00574858e-04  -2.11522352e-01\n",
      "  -2.18882120e-04   2.01549536e-04   3.43135866e-04  -6.98404087e-05\n",
      "  -6.58071021e-03  -1.18306604e-02   2.84063518e+00]\n"
     ]
    }
   ],
   "source": [
    "# MSE with filtered data, affine model\n",
    "affine_tX = affine = np.hstack((np.ones((tX.shape[0],1)),tX))\n",
    "ls_w_affine, ls_loss_affine = least_squares(y, affine_tX)\n",
    "print (ls_loss_affine,ls_w_affine)"
   ]
  },
  {
   "cell_type": "code",
   "execution_count": 20,
   "metadata": {
    "collapsed": false
   },
   "outputs": [
    {
     "name": "stdout",
     "output_type": "stream",
     "text": [
      "(0.744952, [0.74504, 0.743856, 0.747216, 0.743696])\n"
     ]
    }
   ],
   "source": [
    "affine_ls_accuracy = cross_validation(y, affine_tX, 1e-7, method='least_squares')\n",
    "print(affine_ls_accuracy)"
   ]
  },
  {
   "cell_type": "markdown",
   "metadata": {},
   "source": [
    "# Ridge Regression"
   ]
  },
  {
   "cell_type": "code",
   "execution_count": 21,
   "metadata": {
    "collapsed": true
   },
   "outputs": [],
   "source": [
    "from implementations import ridge_regression"
   ]
  },
  {
   "cell_type": "code",
   "execution_count": 22,
   "metadata": {
    "collapsed": false
   },
   "outputs": [
    {
     "name": "stdout",
     "output_type": "stream",
     "text": [
      "0.364399812303 [  1.98628815e-04  -8.39656035e-03  -3.22311998e-03  -2.06213002e-03\n",
      "  -1.13848439e-02   4.91720836e-04  -2.05135585e-02   1.01683862e-01\n",
      "  -1.49557627e-05   3.83138841e-03  -8.60779329e-02   8.16367032e-02\n",
      "   3.42443158e-02   5.15657721e-03  -4.37703313e-04  -1.27074718e-03\n",
      "   4.15478660e-03  -5.41025171e-04   9.28858575e-04   4.71409380e-03\n",
      "   4.53983949e-04  -7.26027320e-04  -9.49952316e-02   8.41627937e-04\n",
      "  -4.41338632e-04  -2.00086360e-04  -2.04653783e-04   1.59679327e-04\n",
      "  -2.54485619e-03  -5.47587190e-03]\n"
     ]
    }
   ],
   "source": [
    "lamb = 1e-1\n",
    "rr_w, rr_loss = ridge_regression(y, tX, lamb)\n",
    "print (rr_loss,rr_w)"
   ]
  },
  {
   "cell_type": "code",
   "execution_count": 23,
   "metadata": {
    "collapsed": false
   },
   "outputs": [
    {
     "name": "stdout",
     "output_type": "stream",
     "text": [
      "(0.7380120000000001, [0.737792, 0.73696, 0.739904, 0.737392])\n"
     ]
    }
   ],
   "source": [
    "rr_accuracy = cross_validation(y, tX, 1e-7, method='ridge_regression')\n",
    "print(rr_accuracy)"
   ]
  },
  {
   "cell_type": "markdown",
   "metadata": {},
   "source": [
    "# Logistic regression"
   ]
  },
  {
   "cell_type": "code",
   "execution_count": 24,
   "metadata": {
    "collapsed": true
   },
   "outputs": [],
   "source": [
    "def clean_data(tX):\n",
    "    N = tX.shape[0]\n",
    "    D = tX.shape[1]\n",
    "    tX_clean = np.copy(np.array(tX))\n",
    "    for n in range(N):\n",
    "        for d in range(D):\n",
    "            if tX_clean[n,d] == -999.0:\n",
    "                tX_clean[n,d] = 0\n",
    "    return tX_clean"
   ]
  },
  {
   "cell_type": "code",
   "execution_count": 25,
   "metadata": {
    "collapsed": false
   },
   "outputs": [
    {
     "name": "stdout",
     "output_type": "stream",
     "text": [
      "[ 5237.55233243] [[ -7.47263324e-01]\n",
      " [  1.49910434e-01]\n",
      " [ -5.82005431e-01]\n",
      " [ -2.15167209e-01]\n",
      " [  1.67060763e-01]\n",
      " [  8.90656448e-02]\n",
      " [  1.77274698e-01]\n",
      " [ -1.14337573e-01]\n",
      " [  2.85837484e-01]\n",
      " [ -7.99720638e-02]\n",
      " [  9.32590213e-03]\n",
      " [ -2.40694011e-01]\n",
      " [  2.78148015e-01]\n",
      " [  1.79845572e-01]\n",
      " [  3.28216928e-01]\n",
      " [ -2.93834075e-03]\n",
      " [ -1.57004055e-02]\n",
      " [  1.31843213e-01]\n",
      " [  2.94058746e-04]\n",
      " [  9.27588668e-03]\n",
      " [  9.31304875e-03]\n",
      " [  1.29900370e-03]\n",
      " [ -5.62660799e-02]\n",
      " [ -1.21997739e-01]\n",
      " [  3.17158097e-02]\n",
      " [ -1.86252913e-02]\n",
      " [ -1.86336943e-03]\n",
      " [ -1.08234565e-01]\n",
      " [ -2.25790370e-03]\n",
      " [ -3.77425955e-04]\n",
      " [ -9.37203852e-02]]\n"
     ]
    }
   ],
   "source": [
    "from implementations import logistic_regression\n",
    "\n",
    "tX_norm, _, _ = standardize(clean_data(tX), None, None)\n",
    "y_shifted = np.array([1 if i==1 else 0 for i in y])\n",
    "initial_w = np.zeros((tX_norm.shape[1],1))\n",
    "\n",
    "lr_w, lr_loss = logistic_regression(y_shifted, tX_norm, initial_w, max_iters=20, gamma=0.00008)\n",
    "print(lr_loss, lr_w)"
   ]
  },
  {
   "cell_type": "code",
   "execution_count": 27,
   "metadata": {
    "collapsed": false
   },
   "outputs": [
    {
     "name": "stdout",
     "output_type": "stream",
     "text": [
      "(0.750348, [0.750848, 0.749296, 0.752576, 0.748672])\n"
     ]
    }
   ],
   "source": [
    "lr_accuracy = cross_validation(y_shifted, tX_norm, 0.00008, method='logistic_regression')\n",
    "print(lr_accuracy)"
   ]
  },
  {
   "cell_type": "markdown",
   "metadata": {},
   "source": [
    "# Regularised logistic regression"
   ]
  },
  {
   "cell_type": "code",
   "execution_count": 6,
   "metadata": {
    "collapsed": false
   },
   "outputs": [
    {
     "name": "stderr",
     "output_type": "stream",
     "text": [
      "C:\\Users\\Fearnley\\Documents\\EPFL\\Machine learning\\ML_pro_1\\pro1\\implementations.py:220: VisibleDeprecationWarning: using a non-integer number instead of an integer will result in an error in the future\n",
      "  y_batch = np.zeros((batch_size,1))\n",
      "C:\\Users\\Fearnley\\Documents\\EPFL\\Machine learning\\ML_pro_1\\pro1\\helpers.py:47: VisibleDeprecationWarning: using a non-integer number instead of an integer will result in an error in the future\n",
      "  yield shuffled_y[start_index:end_index], shuffled_tx[start_index:end_index]\n"
     ]
    },
    {
     "name": "stdout",
     "output_type": "stream",
     "text": [
      "[ 15669.27741059] [[-0.92377853]\n",
      " [ 0.17800081]\n",
      " [-0.75130433]\n",
      " [-0.50996402]\n",
      " [ 0.23041456]\n",
      " [ 0.02995862]\n",
      " [ 0.36586601]\n",
      " [-0.03669818]\n",
      " [ 0.63282032]\n",
      " [-0.21779261]\n",
      " [-0.16676848]\n",
      " [-0.37493274]\n",
      " [ 0.2622428 ]\n",
      " [ 0.21495459]\n",
      " [ 0.58053175]\n",
      " [-0.00311884]\n",
      " [-0.00743836]\n",
      " [ 0.33647252]\n",
      " [ 0.00888818]\n",
      " [ 0.01650483]\n",
      " [ 0.0236441 ]\n",
      " [ 0.0019276 ]\n",
      " [-0.24297976]\n",
      " [-0.32840178]\n",
      " [-0.06904297]\n",
      " [-0.00311622]\n",
      " [-0.00565082]\n",
      " [-0.39965793]\n",
      " [ 0.01500818]\n",
      " [ 0.00245289]\n",
      " [-0.4053564 ]]\n"
     ]
    }
   ],
   "source": [
    "from implementations import reg_logistic_regression\n",
    "\n",
    "tX_norm, _, _ = standardize(clean_data(tX), None, None)\n",
    "y_shifted = np.array([1 if i==1 else 0 for i in y])\n",
    "initbial_w = np.zeros((tX_norm.shape[1],1))\n",
    "\n",
    "rlr_w, rlr_loss = reg_logistic_regression(y_shifted, tX_norm, 0.1, initial_w, max_iters=20, gamma=0.00008)\n",
    "print(rlr_loss, rlr_w)"
   ]
  },
  {
   "cell_type": "code",
   "execution_count": 9,
   "metadata": {
    "collapsed": false
   },
   "outputs": [
    {
     "name": "stderr",
     "output_type": "stream",
     "text": [
      "C:\\Users\\Fearnley\\Documents\\EPFL\\Machine learning\\ML_pro_1\\pro1\\implementations.py:220: VisibleDeprecationWarning: using a non-integer number instead of an integer will result in an error in the future\n",
      "  y_batch = np.zeros((batch_size,1))\n",
      "C:\\Users\\Fearnley\\Documents\\EPFL\\Machine learning\\ML_pro_1\\pro1\\helpers.py:47: VisibleDeprecationWarning: using a non-integer number instead of an integer will result in an error in the future\n",
      "  yield shuffled_y[start_index:end_index], shuffled_tx[start_index:end_index]\n"
     ]
    },
    {
     "name": "stdout",
     "output_type": "stream",
     "text": [
      "(0.751792, [0.751808, 0.748576, 0.754512, 0.752272])\n"
     ]
    }
   ],
   "source": [
    "\n",
    "rlr_accuracy = cross_validation(y_shifted, tX_norm, 0.00008, method='reg_logistic_regression')\n",
    "print(rlr_accuracy)"
   ]
  },
  {
   "cell_type": "markdown",
   "metadata": {},
   "source": [
    "# Summary"
   ]
  },
  {
   "cell_type": "code",
   "execution_count": 29,
   "metadata": {
    "collapsed": false,
    "scrolled": true
   },
   "outputs": [
    {
     "data": {
      "text/html": [
       "<div>\n",
       "<table border=\"1\" class=\"dataframe\">\n",
       "  <thead>\n",
       "    <tr style=\"text-align: right;\">\n",
       "      <th></th>\n",
       "      <th>Gradient Descent</th>\n",
       "      <th>Stochastic Gradient Descent</th>\n",
       "      <th>Least Squares</th>\n",
       "      <th>Ridge Regression</th>\n",
       "      <th>Logistic Regression</th>\n",
       "      <th>Regularised Logistic Regression</th>\n",
       "    </tr>\n",
       "  </thead>\n",
       "  <tbody>\n",
       "    <tr>\n",
       "      <th>Loss mse</th>\n",
       "      <td>0.415608</td>\n",
       "      <td>0.404678</td>\n",
       "      <td>0.339687</td>\n",
       "      <td>0.364400</td>\n",
       "      <td>5237.552332</td>\n",
       "      <td>15669.277411</td>\n",
       "    </tr>\n",
       "    <tr>\n",
       "      <th>Accuracy</th>\n",
       "      <td>0.665876</td>\n",
       "      <td>0.698808</td>\n",
       "      <td>0.744256</td>\n",
       "      <td>0.738012</td>\n",
       "      <td>0.750348</td>\n",
       "      <td>0.751792</td>\n",
       "    </tr>\n",
       "  </tbody>\n",
       "</table>\n",
       "</div>"
      ],
      "text/plain": [
       "          Gradient Descent  Stochastic Gradient Descent  Least Squares  \\\n",
       "Loss mse          0.415608                     0.404678       0.339687   \n",
       "Accuracy          0.665876                     0.698808       0.744256   \n",
       "\n",
       "          Ridge Regression  Logistic Regression  \\\n",
       "Loss mse          0.364400          5237.552332   \n",
       "Accuracy          0.738012             0.750348   \n",
       "\n",
       "          Regularised Logistic Regression  \n",
       "Loss mse                     15669.277411  \n",
       "Accuracy                         0.751792  "
      ]
     },
     "execution_count": 29,
     "metadata": {},
     "output_type": "execute_result"
    }
   ],
   "source": [
    "\n",
    "\n",
    "df_results = pd.DataFrame([[gd_loss, sgd_loss, ls_loss, rr_loss, lr_loss[0], rlr_loss[0]],\n",
    "                           [gd_accuracy[0], sgd_accuracy[0], ls_accuracy[0], rr_accuracy[0], lr_accuracy[0], rlr_accuracy[0]]\n",
    "                          ])\n",
    "df_results.columns = ['Gradient Descent', 'Stochastic Gradient Descent', 'Least Squares', 'Ridge Regression', 'Logistic Regression', 'Regularised Logistic Regression']\n",
    "df_results.index = ['Loss mse','Accuracy']\n",
    "df_results"
   ]
  },
  {
   "cell_type": "markdown",
   "metadata": {},
   "source": []
  }
 ],
 "metadata": {
  "anaconda-cloud": {},
  "kernelspec": {
   "display_name": "Python 3",
   "language": "python",
   "name": "python3"
  },
  "language_info": {
   "codemirror_mode": {
    "name": "ipython",
    "version": 3
   },
   "file_extension": ".py",
   "mimetype": "text/x-python",
   "name": "python",
   "nbconvert_exporter": "python",
   "pygments_lexer": "ipython3",
   "version": "3.5.2"
  }
 },
 "nbformat": 4,
 "nbformat_minor": 0
}
