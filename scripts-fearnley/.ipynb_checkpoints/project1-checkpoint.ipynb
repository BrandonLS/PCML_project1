{
 "cells": [
  {
   "cell_type": "code",
   "execution_count": 1,
   "metadata": {
    "collapsed": false
   },
   "outputs": [],
   "source": [
    "# Useful starting lines\n",
    "%matplotlib inline\n",
    "import numpy as np\n",
    "import matplotlib.pyplot as plt\n",
    "%load_ext autoreload\n",
    "%autoreload 2\n",
    "import pandas as pd"
   ]
  },
  {
   "cell_type": "markdown",
   "metadata": {},
   "source": [
    "## Load the training data into feature matrix, class labels, and event ids:"
   ]
  },
  {
   "cell_type": "code",
   "execution_count": 2,
   "metadata": {
    "collapsed": false
   },
   "outputs": [],
   "source": [
    "from proj1_helpers import *\n",
    "DATA_TRAIN_PATH = 'C:/Users/Fearnley/Documents/EPFL/Machine learning/Competition/train.csv' \n",
    "y, tX, ids = load_csv_data(DATA_TRAIN_PATH)"
   ]
  },
  {
   "cell_type": "markdown",
   "metadata": {},
   "source": [
    "# Pre process data"
   ]
  },
  {
   "cell_type": "code",
   "execution_count": 3,
   "metadata": {
    "collapsed": false
   },
   "outputs": [
    {
     "data": {
      "text/html": [
       "<div>\n",
       "<table border=\"1\" class=\"dataframe\">\n",
       "  <thead>\n",
       "    <tr style=\"text-align: right;\">\n",
       "      <th></th>\n",
       "      <th>DER_mass_MMC</th>\n",
       "      <th>DER_mass_transverse_met_lep</th>\n",
       "      <th>DER_mass_vis</th>\n",
       "      <th>DER_pt_h</th>\n",
       "      <th>DER_deltaeta_jet_jet</th>\n",
       "      <th>DER_mass_jet_jet</th>\n",
       "      <th>DER_prodeta_jet_jet</th>\n",
       "      <th>DER_deltar_tau_lep</th>\n",
       "      <th>DER_pt_tot</th>\n",
       "      <th>DER_sum_pt</th>\n",
       "      <th>...</th>\n",
       "      <th>PRI_met_phi</th>\n",
       "      <th>PRI_met_sumet</th>\n",
       "      <th>PRI_jet_num</th>\n",
       "      <th>PRI_jet_leading_pt</th>\n",
       "      <th>PRI_jet_leading_eta</th>\n",
       "      <th>PRI_jet_leading_phi</th>\n",
       "      <th>PRI_jet_subleading_pt</th>\n",
       "      <th>PRI_jet_subleading_eta</th>\n",
       "      <th>PRI_jet_subleading_phi</th>\n",
       "      <th>PRI_jet_all_pt</th>\n",
       "    </tr>\n",
       "  </thead>\n",
       "  <tbody>\n",
       "    <tr>\n",
       "      <th>count</th>\n",
       "      <td>250000.000000</td>\n",
       "      <td>250000.000000</td>\n",
       "      <td>250000.000000</td>\n",
       "      <td>250000.000000</td>\n",
       "      <td>250000.000000</td>\n",
       "      <td>250000.000000</td>\n",
       "      <td>250000.000000</td>\n",
       "      <td>250000.000000</td>\n",
       "      <td>250000.000000</td>\n",
       "      <td>250000.000000</td>\n",
       "      <td>...</td>\n",
       "      <td>250000.000000</td>\n",
       "      <td>250000.000000</td>\n",
       "      <td>250000.000000</td>\n",
       "      <td>250000.000000</td>\n",
       "      <td>250000.000000</td>\n",
       "      <td>250000.000000</td>\n",
       "      <td>250000.000000</td>\n",
       "      <td>250000.000000</td>\n",
       "      <td>250000.000000</td>\n",
       "      <td>250000.000000</td>\n",
       "    </tr>\n",
       "    <tr>\n",
       "      <th>mean</th>\n",
       "      <td>-49.023079</td>\n",
       "      <td>49.239819</td>\n",
       "      <td>81.181982</td>\n",
       "      <td>57.895962</td>\n",
       "      <td>-708.420675</td>\n",
       "      <td>-601.237051</td>\n",
       "      <td>-709.356603</td>\n",
       "      <td>2.373100</td>\n",
       "      <td>18.917332</td>\n",
       "      <td>158.432217</td>\n",
       "      <td>...</td>\n",
       "      <td>-0.010119</td>\n",
       "      <td>209.797178</td>\n",
       "      <td>0.979176</td>\n",
       "      <td>-348.329567</td>\n",
       "      <td>-399.254314</td>\n",
       "      <td>-399.259788</td>\n",
       "      <td>-692.381204</td>\n",
       "      <td>-709.121609</td>\n",
       "      <td>-709.118631</td>\n",
       "      <td>73.064591</td>\n",
       "    </tr>\n",
       "    <tr>\n",
       "      <th>std</th>\n",
       "      <td>406.345647</td>\n",
       "      <td>35.344886</td>\n",
       "      <td>40.828691</td>\n",
       "      <td>63.655682</td>\n",
       "      <td>454.480565</td>\n",
       "      <td>657.972302</td>\n",
       "      <td>453.019877</td>\n",
       "      <td>0.782911</td>\n",
       "      <td>22.273494</td>\n",
       "      <td>115.706115</td>\n",
       "      <td>...</td>\n",
       "      <td>1.812223</td>\n",
       "      <td>126.499506</td>\n",
       "      <td>0.977426</td>\n",
       "      <td>532.962789</td>\n",
       "      <td>489.338286</td>\n",
       "      <td>489.333883</td>\n",
       "      <td>479.875496</td>\n",
       "      <td>453.384624</td>\n",
       "      <td>453.389017</td>\n",
       "      <td>98.015662</td>\n",
       "    </tr>\n",
       "    <tr>\n",
       "      <th>min</th>\n",
       "      <td>-999.000000</td>\n",
       "      <td>0.000000</td>\n",
       "      <td>6.329000</td>\n",
       "      <td>0.000000</td>\n",
       "      <td>-999.000000</td>\n",
       "      <td>-999.000000</td>\n",
       "      <td>-999.000000</td>\n",
       "      <td>0.208000</td>\n",
       "      <td>0.000000</td>\n",
       "      <td>46.104000</td>\n",
       "      <td>...</td>\n",
       "      <td>-3.142000</td>\n",
       "      <td>13.678000</td>\n",
       "      <td>0.000000</td>\n",
       "      <td>-999.000000</td>\n",
       "      <td>-999.000000</td>\n",
       "      <td>-999.000000</td>\n",
       "      <td>-999.000000</td>\n",
       "      <td>-999.000000</td>\n",
       "      <td>-999.000000</td>\n",
       "      <td>0.000000</td>\n",
       "    </tr>\n",
       "    <tr>\n",
       "      <th>25%</th>\n",
       "      <td>78.100750</td>\n",
       "      <td>19.241000</td>\n",
       "      <td>59.388750</td>\n",
       "      <td>14.068750</td>\n",
       "      <td>-999.000000</td>\n",
       "      <td>-999.000000</td>\n",
       "      <td>-999.000000</td>\n",
       "      <td>1.810000</td>\n",
       "      <td>2.841000</td>\n",
       "      <td>77.550000</td>\n",
       "      <td>...</td>\n",
       "      <td>-1.575000</td>\n",
       "      <td>123.017500</td>\n",
       "      <td>0.000000</td>\n",
       "      <td>-999.000000</td>\n",
       "      <td>-999.000000</td>\n",
       "      <td>-999.000000</td>\n",
       "      <td>-999.000000</td>\n",
       "      <td>-999.000000</td>\n",
       "      <td>-999.000000</td>\n",
       "      <td>0.000000</td>\n",
       "    </tr>\n",
       "    <tr>\n",
       "      <th>50%</th>\n",
       "      <td>105.012000</td>\n",
       "      <td>46.524000</td>\n",
       "      <td>73.752000</td>\n",
       "      <td>38.467500</td>\n",
       "      <td>-999.000000</td>\n",
       "      <td>-999.000000</td>\n",
       "      <td>-999.000000</td>\n",
       "      <td>2.491500</td>\n",
       "      <td>12.315500</td>\n",
       "      <td>120.664500</td>\n",
       "      <td>...</td>\n",
       "      <td>-0.024000</td>\n",
       "      <td>179.739000</td>\n",
       "      <td>1.000000</td>\n",
       "      <td>38.960000</td>\n",
       "      <td>-1.872000</td>\n",
       "      <td>-2.093000</td>\n",
       "      <td>-999.000000</td>\n",
       "      <td>-999.000000</td>\n",
       "      <td>-999.000000</td>\n",
       "      <td>40.512500</td>\n",
       "    </tr>\n",
       "    <tr>\n",
       "      <th>75%</th>\n",
       "      <td>130.606250</td>\n",
       "      <td>73.598000</td>\n",
       "      <td>92.259000</td>\n",
       "      <td>79.169000</td>\n",
       "      <td>0.490000</td>\n",
       "      <td>83.446000</td>\n",
       "      <td>-4.593000</td>\n",
       "      <td>2.961000</td>\n",
       "      <td>27.591000</td>\n",
       "      <td>200.478250</td>\n",
       "      <td>...</td>\n",
       "      <td>1.561000</td>\n",
       "      <td>263.379250</td>\n",
       "      <td>2.000000</td>\n",
       "      <td>75.349000</td>\n",
       "      <td>0.433000</td>\n",
       "      <td>0.503000</td>\n",
       "      <td>33.703000</td>\n",
       "      <td>-2.457000</td>\n",
       "      <td>-2.275000</td>\n",
       "      <td>109.933750</td>\n",
       "    </tr>\n",
       "    <tr>\n",
       "      <th>max</th>\n",
       "      <td>1192.026000</td>\n",
       "      <td>690.075000</td>\n",
       "      <td>1349.351000</td>\n",
       "      <td>2834.999000</td>\n",
       "      <td>8.503000</td>\n",
       "      <td>4974.979000</td>\n",
       "      <td>16.690000</td>\n",
       "      <td>5.684000</td>\n",
       "      <td>2834.999000</td>\n",
       "      <td>1852.462000</td>\n",
       "      <td>...</td>\n",
       "      <td>3.142000</td>\n",
       "      <td>2003.976000</td>\n",
       "      <td>3.000000</td>\n",
       "      <td>1120.573000</td>\n",
       "      <td>4.499000</td>\n",
       "      <td>3.141000</td>\n",
       "      <td>721.456000</td>\n",
       "      <td>4.500000</td>\n",
       "      <td>3.142000</td>\n",
       "      <td>1633.433000</td>\n",
       "    </tr>\n",
       "  </tbody>\n",
       "</table>\n",
       "<p>8 rows × 30 columns</p>\n",
       "</div>"
      ],
      "text/plain": [
       "        DER_mass_MMC  DER_mass_transverse_met_lep   DER_mass_vis  \\\n",
       "count  250000.000000                250000.000000  250000.000000   \n",
       "mean      -49.023079                    49.239819      81.181982   \n",
       "std       406.345647                    35.344886      40.828691   \n",
       "min      -999.000000                     0.000000       6.329000   \n",
       "25%        78.100750                    19.241000      59.388750   \n",
       "50%       105.012000                    46.524000      73.752000   \n",
       "75%       130.606250                    73.598000      92.259000   \n",
       "max      1192.026000                   690.075000    1349.351000   \n",
       "\n",
       "            DER_pt_h  DER_deltaeta_jet_jet  DER_mass_jet_jet  \\\n",
       "count  250000.000000         250000.000000     250000.000000   \n",
       "mean       57.895962           -708.420675       -601.237051   \n",
       "std        63.655682            454.480565        657.972302   \n",
       "min         0.000000           -999.000000       -999.000000   \n",
       "25%        14.068750           -999.000000       -999.000000   \n",
       "50%        38.467500           -999.000000       -999.000000   \n",
       "75%        79.169000              0.490000         83.446000   \n",
       "max      2834.999000              8.503000       4974.979000   \n",
       "\n",
       "       DER_prodeta_jet_jet  DER_deltar_tau_lep     DER_pt_tot     DER_sum_pt  \\\n",
       "count        250000.000000       250000.000000  250000.000000  250000.000000   \n",
       "mean           -709.356603            2.373100      18.917332     158.432217   \n",
       "std             453.019877            0.782911      22.273494     115.706115   \n",
       "min            -999.000000            0.208000       0.000000      46.104000   \n",
       "25%            -999.000000            1.810000       2.841000      77.550000   \n",
       "50%            -999.000000            2.491500      12.315500     120.664500   \n",
       "75%              -4.593000            2.961000      27.591000     200.478250   \n",
       "max              16.690000            5.684000    2834.999000    1852.462000   \n",
       "\n",
       "            ...          PRI_met_phi  PRI_met_sumet    PRI_jet_num  \\\n",
       "count       ...        250000.000000  250000.000000  250000.000000   \n",
       "mean        ...            -0.010119     209.797178       0.979176   \n",
       "std         ...             1.812223     126.499506       0.977426   \n",
       "min         ...            -3.142000      13.678000       0.000000   \n",
       "25%         ...            -1.575000     123.017500       0.000000   \n",
       "50%         ...            -0.024000     179.739000       1.000000   \n",
       "75%         ...             1.561000     263.379250       2.000000   \n",
       "max         ...             3.142000    2003.976000       3.000000   \n",
       "\n",
       "       PRI_jet_leading_pt  PRI_jet_leading_eta  PRI_jet_leading_phi  \\\n",
       "count       250000.000000        250000.000000        250000.000000   \n",
       "mean          -348.329567          -399.254314          -399.259788   \n",
       "std            532.962789           489.338286           489.333883   \n",
       "min           -999.000000          -999.000000          -999.000000   \n",
       "25%           -999.000000          -999.000000          -999.000000   \n",
       "50%             38.960000            -1.872000            -2.093000   \n",
       "75%             75.349000             0.433000             0.503000   \n",
       "max           1120.573000             4.499000             3.141000   \n",
       "\n",
       "       PRI_jet_subleading_pt  PRI_jet_subleading_eta  PRI_jet_subleading_phi  \\\n",
       "count          250000.000000           250000.000000           250000.000000   \n",
       "mean             -692.381204             -709.121609             -709.118631   \n",
       "std               479.875496              453.384624              453.389017   \n",
       "min              -999.000000             -999.000000             -999.000000   \n",
       "25%              -999.000000             -999.000000             -999.000000   \n",
       "50%              -999.000000             -999.000000             -999.000000   \n",
       "75%                33.703000               -2.457000               -2.275000   \n",
       "max               721.456000                4.500000                3.142000   \n",
       "\n",
       "       PRI_jet_all_pt  \n",
       "count   250000.000000  \n",
       "mean        73.064591  \n",
       "std         98.015662  \n",
       "min          0.000000  \n",
       "25%          0.000000  \n",
       "50%         40.512500  \n",
       "75%        109.933750  \n",
       "max       1633.433000  \n",
       "\n",
       "[8 rows x 30 columns]"
      ]
     },
     "execution_count": 3,
     "metadata": {},
     "output_type": "execute_result"
    }
   ],
   "source": [
    "df = pd.DataFrame(data=tX) \n",
    "df.columns = ['DER_mass_MMC','DER_mass_transverse_met_lep','DER_mass_vis','DER_pt_h','DER_deltaeta_jet_jet','DER_mass_jet_jet','DER_prodeta_jet_jet','DER_deltar_tau_lep','DER_pt_tot','DER_sum_pt','DER_pt_ratio_lep_tau','DER_met_phi_centrality','DER_lep_eta_centrality','PRI_tau_pt','PRI_tau_eta','PRI_tau_phi','PRI_lep_pt','PRI_lep_eta','PRI_lep_phi','PRI_met','PRI_met_phi','PRI_met_sumet','PRI_jet_num','PRI_jet_leading_pt','PRI_jet_leading_eta','PRI_jet_leading_phi','PRI_jet_subleading_pt','PRI_jet_subleading_eta','PRI_jet_subleading_phi','PRI_jet_all_pt']\n",
    "\n",
    "df.describe()"
   ]
  },
  {
   "cell_type": "code",
   "execution_count": 13,
   "metadata": {
    "collapsed": false
   },
   "outputs": [
    {
     "data": {
      "text/plain": [
       "(250000, 30)"
      ]
     },
     "execution_count": 13,
     "metadata": {},
     "output_type": "execute_result"
    }
   ],
   "source": [
    "tX.shape"
   ]
  },
  {
   "cell_type": "markdown",
   "metadata": {},
   "source": [
    "# Gradient descent"
   ]
  },
  {
   "cell_type": "markdown",
   "metadata": {},
   "source": [
    "There are two parameters we need to choose: neta and w0  \n",
    "Here we run a test with eta = 1e-7 and w0 = 0.  \n",
    "How to choose the parameters correctly ?\n",
    "Also we also using a linear model, can we use other models ?\n",
    "\n",
    "Perhaps a grid search could give a good idea of where to start the gradient descent from ?  \n",
    "Can results from analytic algorithms be applied here ? For example for the choice of eta\n",
    "\n",
    "Implement with MAE too\n",
    "\n"
   ]
  },
  {
   "cell_type": "code",
   "execution_count": 10,
   "metadata": {
    "collapsed": false
   },
   "outputs": [
    {
     "name": "stdout",
     "output_type": "stream",
     "text": [
      "0.415607829341 [  3.80346724e-04  -1.05111647e-04  -4.01889967e-05   1.04035338e-05\n",
      "   1.70150747e-05   1.82378837e-04   1.41987918e-05  -5.18640770e-07\n",
      "  -2.19005185e-05  -6.90004830e-05  -2.14951239e-06   1.63099023e-06\n",
      "   1.66426513e-05   2.34443344e-05  -2.47834061e-08  -7.33113014e-08\n",
      "  -3.35914729e-05  -1.93731739e-08   5.42758416e-08  -2.10924320e-05\n",
      "   9.69234347e-08  -9.87881549e-05  -1.06453411e-06   3.94465994e-05\n",
      "   5.07333661e-05   5.07285001e-05  -7.45642182e-06   1.65052584e-05\n",
      "   1.64630455e-05  -5.88533325e-05]\n"
     ]
    }
   ],
   "source": [
    "from gradient_descent import gradient_descent\n",
    "w0 = np.zeros(30)\n",
    "gd_loss, gd_w = gradient_descent(y, tX, w0,100, 1e-7)\n",
    "print (gd_loss, gd_w)"
   ]
  },
  {
   "cell_type": "markdown",
   "metadata": {},
   "source": [
    "# Stochastic Gradient descent\n",
    "\n",
    "Again we can ask the same questions as for gradient descent"
   ]
  },
  {
   "cell_type": "code",
   "execution_count": 11,
   "metadata": {
    "collapsed": false
   },
   "outputs": [
    {
     "name": "stdout",
     "output_type": "stream",
     "text": [
      "0.404689743265 [  4.77665052e-04  -4.38322561e-04  -1.75500868e-04   9.89536040e-05\n",
      "  -3.82046815e-05   4.95072982e-04  -4.82529777e-05  -2.55724382e-06\n",
      "  -8.62194816e-05  -2.03668083e-04  -9.76570060e-06   7.08590908e-06\n",
      "  -3.91637410e-05   1.36850863e-04  -1.26945081e-07  -3.24925376e-07\n",
      "  -1.37123879e-04  -1.26938897e-07   2.88893704e-07  -3.40761199e-05\n",
      "   4.36862886e-07  -3.22539727e-04  -4.49521583e-06   4.51521301e-05\n",
      "   5.45514354e-05   5.45360223e-05  -1.35450738e-04  -3.97512266e-05\n",
      "  -3.99662729e-05  -2.03395005e-04]\n"
     ]
    }
   ],
   "source": [
    "from stochastic_gradient_descent import stochastic_gradient_descent\n",
    "\n",
    "w0 = np.zeros(30)\n",
    "sgd_loss, sgd_w = stochastic_gradient_descent(y, tX, w0, 5000, 10, 1e-7)\n",
    "print(sgd_loss, sgd_w)"
   ]
  },
  {
   "cell_type": "markdown",
   "metadata": {},
   "source": [
    "# Least squares\n",
    "\n",
    "Here we try the least squares resolution.  \n",
    "This gives us an exact solution.  \n",
    "However for this  method to work, we have a condition of the rank of tX, and we are not sure this condition is verified."
   ]
  },
  {
   "cell_type": "code",
   "execution_count": 28,
   "metadata": {
    "collapsed": false
   },
   "outputs": [
    {
     "name": "stdout",
     "output_type": "stream",
     "text": [
      "0.339686809915 [  8.03911103e-05  -7.20111773e-03  -6.05471144e-03  -5.47536204e-04\n",
      "  -1.93854515e-02   4.73443447e-04  -2.60377713e-02   3.25108467e-01\n",
      "  -3.81085734e-05  -2.72787181e+00  -2.21219603e-01   9.50810773e-02\n",
      "   6.40330195e-02   2.73613146e+00  -3.31801854e-04  -9.54327420e-04\n",
      "   2.74088821e+00  -5.34165287e-04   9.73498892e-04   3.69225050e-03\n",
      "   3.54487161e-04  -5.43344617e-04  -3.30448034e-01  -1.40800496e-03\n",
      "   8.31432873e-04   1.02117271e-03  -1.68047418e-03  -5.83664769e-03\n",
      "  -1.11088005e-02   2.72833175e+00]\n"
     ]
    }
   ],
   "source": [
    "from least_squares import least_squares\n",
    "\n",
    "ls_loss, ls_w = least_squares(y, tX)\n",
    "print (ls_mse,ls_w)"
   ]
  },
  {
   "cell_type": "markdown",
   "metadata": {},
   "source": [
    "As we are working in dimension thirty, a polynomial regression is difficult to do."
   ]
  },
  {
   "cell_type": "markdown",
   "metadata": {},
   "source": [
    "# Ridge Regression\n",
    "\n",
    "We need to select the right value of lambda.  \n",
    "To do this we can graph for different value of lambda and select one where lambda looks small"
   ]
  },
  {
   "cell_type": "code",
   "execution_count": 38,
   "metadata": {
    "collapsed": false
   },
   "outputs": [
    {
     "name": "stdout",
     "output_type": "stream",
     "text": [
      "0.339686815599 [  8.38989258e-05  -7.23616248e-03  -5.96605171e-03  -5.98776657e-04\n",
      "  -2.01862937e-02   4.75411656e-04  -2.61176312e-02   3.18084711e-01\n",
      "  -3.90290286e-05   5.28099771e-03  -2.17730850e-01   9.50715832e-02\n",
      "   6.45019388e-02   2.98767298e-03  -3.33936690e-04  -9.67193631e-04\n",
      "   7.59947692e-03  -5.30252924e-04   9.67244857e-04   3.72427875e-03\n",
      "   3.56044559e-04  -5.49465200e-04  -3.21910692e-01  -1.32710155e-03\n",
      "   7.84073781e-04   9.78579318e-04  -1.63267456e-03  -5.69636551e-03\n",
      "  -1.08932194e-02  -4.89656055e-03]\n"
     ]
    }
   ],
   "source": [
    "from ridge_regression import ridge_regression\n",
    "\n",
    "lamb = 1e-3\n",
    "rr_loss, rr_w = ridge_regression(y, tX, lamb)\n",
    "print (rr_mse,rr_w)"
   ]
  },
  {
   "cell_type": "markdown",
   "metadata": {},
   "source": [
    "# Logistic regression"
   ]
  },
  {
   "cell_type": "markdown",
   "metadata": {},
   "source": [
    "# Regularised logistic regression"
   ]
  },
  {
   "cell_type": "markdown",
   "metadata": {},
   "source": [
    "# Cross validation"
   ]
  },
  {
   "cell_type": "markdown",
   "metadata": {},
   "source": [
    "# Summary"
   ]
  },
  {
   "cell_type": "code",
   "execution_count": 39,
   "metadata": {
    "collapsed": false
   },
   "outputs": [
    {
     "data": {
      "text/html": [
       "<div>\n",
       "<table border=\"1\" class=\"dataframe\">\n",
       "  <thead>\n",
       "    <tr style=\"text-align: right;\">\n",
       "      <th></th>\n",
       "      <th>Loss</th>\n",
       "    </tr>\n",
       "  </thead>\n",
       "  <tbody>\n",
       "    <tr>\n",
       "      <th>Gradient Descent</th>\n",
       "      <td>0.415608</td>\n",
       "    </tr>\n",
       "    <tr>\n",
       "      <th>Stochastic Gradient Descent</th>\n",
       "      <td>0.404690</td>\n",
       "    </tr>\n",
       "    <tr>\n",
       "      <th>Least Squares</th>\n",
       "      <td>0.339687</td>\n",
       "    </tr>\n",
       "    <tr>\n",
       "      <th>Ridge Regression</th>\n",
       "      <td>0.340210</td>\n",
       "    </tr>\n",
       "  </tbody>\n",
       "</table>\n",
       "</div>"
      ],
      "text/plain": [
       "                                 Loss\n",
       "Gradient Descent             0.415608\n",
       "Stochastic Gradient Descent  0.404690\n",
       "Least Squares                0.339687\n",
       "Ridge Regression             0.340210"
      ]
     },
     "execution_count": 39,
     "metadata": {},
     "output_type": "execute_result"
    }
   ],
   "source": [
    "df = pd.DataFrame([gd_loss, sgd_loss, ls_loss, rr_loss])\n",
    "df.index = ['Gradient Descent', 'Stochastic Gradient Descent', 'Least Squares', 'Ridge Regression']\n",
    "df.columns = ['Loss']\n",
    "df"
   ]
  },
  {
   "cell_type": "markdown",
   "metadata": {},
   "source": [
    "## Generate predictions and save ouput in csv format for submission:"
   ]
  },
  {
   "cell_type": "code",
   "execution_count": null,
   "metadata": {
    "collapsed": false
   },
   "outputs": [],
   "source": [
    "DATA_TEST_PATH = '' # TODO: download train data and supply path here \n",
    "_, tX_test, ids_test = load_csv_data(DATA_TEST_PATH)"
   ]
  },
  {
   "cell_type": "code",
   "execution_count": null,
   "metadata": {
    "collapsed": false
   },
   "outputs": [],
   "source": [
    "OUTPUT_PATH = '' # TODO: fill in desired name of output file for submission\n",
    "y_pred = predict_labels(weights, tX_test)\n",
    "create_csv_submission(ids_test, y_pred, OUTPUT_PATH)"
   ]
  },
  {
   "cell_type": "code",
   "execution_count": null,
   "metadata": {
    "collapsed": true
   },
   "outputs": [],
   "source": []
  }
 ],
 "metadata": {
  "anaconda-cloud": {},
  "kernelspec": {
   "display_name": "Python 3",
   "language": "python",
   "name": "python3"
  },
  "language_info": {
   "codemirror_mode": {
    "name": "ipython",
    "version": 3
   },
   "file_extension": ".py",
   "mimetype": "text/x-python",
   "name": "python",
   "nbconvert_exporter": "python",
   "pygments_lexer": "ipython3",
   "version": "3.5.2"
  }
 },
 "nbformat": 4,
 "nbformat_minor": 0
}
