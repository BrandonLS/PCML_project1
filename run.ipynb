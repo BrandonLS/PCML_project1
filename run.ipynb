{
 "cells": [
  {
   "cell_type": "code",
   "execution_count": 1,
   "metadata": {
    "collapsed": false
   },
   "outputs": [],
   "source": [
    "\"\"\"\n",
    "ML pipeline\n",
    "\"\"\"\n",
    "from scripts import logistic_regression, sigmoid\n",
    "import numpy as np\n",
    "\n",
    "# Import data\n",
    "from helpers import *\n",
    "DATA_TRAIN_PATH = 'data/train.csv' # TODO: download train data and supply path here \n",
    "y, tX, ids = load_csv_data(DATA_TRAIN_PATH)\n"
   ]
  },
  {
   "cell_type": "code",
   "execution_count": 2,
   "metadata": {
    "collapsed": false
   },
   "outputs": [],
   "source": [
    "y_shifted, tX_norm = pre_process_data(y, tX)"
   ]
  },
  {
   "cell_type": "code",
   "execution_count": 7,
   "metadata": {
    "collapsed": false
   },
   "outputs": [
    {
     "name": "stderr",
     "output_type": "stream",
     "text": [
      "C:\\Users\\Fearnley\\Documents\\EPFL\\Machine learning\\ML_pro_1\\pro1\\scripts.py:162: VisibleDeprecationWarning: using a non-integer number instead of an integer will result in an error in the future\n",
      "  y_batch = np.zeros((batch_size,1))\n",
      "C:\\Users\\Fearnley\\Documents\\EPFL\\Machine learning\\ML_pro_1\\pro1\\helpers.py:47: VisibleDeprecationWarning: using a non-integer number instead of an integer will result in an error in the future\n",
      "  yield shuffled_y[start_index:end_index], shuffled_tx[start_index:end_index]\n"
     ]
    },
    {
     "name": "stdout",
     "output_type": "stream",
     "text": [
      "[ 1355.81046165] [[-0.14811884]\n",
      " [-0.18089259]\n",
      " [-0.32998163]\n",
      " [-0.36853207]\n",
      " [ 0.90762942]\n",
      " [-0.34420668]\n",
      " [ 1.11060347]\n",
      " [ 0.10000989]\n",
      " [ 0.90127521]\n",
      " [-0.17258339]\n",
      " [ 0.07507517]\n",
      " [-0.64302249]\n",
      " [ 0.2843205 ]\n",
      " [ 0.4042932 ]\n",
      " [ 0.34154496]\n",
      " [ 0.00308468]\n",
      " [-0.02282005]\n",
      " [ 0.61624712]\n",
      " [-0.01503443]\n",
      " [-0.00311258]\n",
      " [ 0.07915558]\n",
      " [ 0.00471699]\n",
      " [-0.32884507]\n",
      " [-0.17242641]\n",
      " [-0.55296511]\n",
      " [-0.00241643]\n",
      " [-0.00387323]\n",
      " [ 0.04143153]\n",
      " [ 0.004789  ]\n",
      " [-0.01287548]\n",
      " [-0.16717194]]\n"
     ]
    }
   ],
   "source": [
    "# Run logisitic regression algorithm\n",
    "N, D = tX.shape\n",
    "max_iters = 500\n",
    "batch_size = N/100\n",
    "gamma=0.00035938136638046257\n",
    "\n",
    "loss, w = logistic_regression(y_shifted, tX_norm, gamma, max_iters, batch_size)\n",
    "print(loss, w)\n"
   ]
  },
  {
   "cell_type": "code",
   "execution_count": 6,
   "metadata": {
    "collapsed": false
   },
   "outputs": [],
   "source": [
    "# Output predictions\n",
    "\n",
    "#Load test data\n",
    "DATA_TEST_PATH = 'data/test.csv' # TODO: download train data and supply path here \n",
    "OUTPUT_PATH = 'data/output2.csv' # TODO: fill in desired name of output file for submission\n",
    "_, tX_test, ids_test = load_csv_data(DATA_TEST_PATH)\n",
    "\n",
    "# Process test data\n",
    "_, tX_test = pre_process_data(_,tX_test)\n",
    "\n",
    "\n",
    "y_est = sigmoid(np.dot(tX_test,w))\n",
    "y_label = [-1 if i<0.5 else 1 for i in y_est]\n",
    "create_csv_submission(ids_test, y_label, OUTPUT_PATH)"
   ]
  },
  {
   "cell_type": "code",
   "execution_count": null,
   "metadata": {
    "collapsed": true
   },
   "outputs": [],
   "source": []
  }
 ],
 "metadata": {
  "kernelspec": {
   "display_name": "Python 3",
   "language": "python",
   "name": "python3"
  },
  "language_info": {
   "codemirror_mode": {
    "name": "ipython",
    "version": 3
   },
   "file_extension": ".py",
   "mimetype": "text/x-python",
   "name": "python",
   "nbconvert_exporter": "python",
   "pygments_lexer": "ipython3",
   "version": "3.5.2"
  }
 },
 "nbformat": 4,
 "nbformat_minor": 0
}
